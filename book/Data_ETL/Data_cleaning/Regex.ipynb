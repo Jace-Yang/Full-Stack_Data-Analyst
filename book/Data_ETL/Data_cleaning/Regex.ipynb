{
 "cells": [
  {
   "cell_type": "markdown",
   "id": "73d113c2-7da2-4be2-9973-3fe0347f57a3",
   "metadata": {},
   "source": [
    "# 正则表达式"
   ]
  },
  {
   "cell_type": "markdown",
   "id": "89ac6745-cc32-4496-82fe-82fd1684641d",
   "metadata": {},
   "source": [
    "> Online rebug: https://regex101.com/"
   ]
  },
  {
   "cell_type": "markdown",
   "id": "9a10c2b4-2532-4412-8dd8-40ecf22954f7",
   "metadata": {},
   "source": [
    "## 基础"
   ]
  },
  {
   "cell_type": "markdown",
   "id": "43c328b6-7644-4c1d-b0c3-d0b5a73816bc",
   "metadata": {},
   "source": [
    "<img src=\"https://img-blog.csdnimg.cn/1e7357fa41394b02a8789f0cbbbe2035.png?x-oss-process=image/watermark,type_ZHJvaWRzYW5zZmFsbGJhY2s,shadow_50,text_Q1NETiBA5biD6KGj5bCP5byg,size_20,color_FFFFFF,t_70,g_se,x_16\">"
   ]
  },
  {
   "cell_type": "markdown",
   "id": "14da1575-40f8-483b-80f9-560d09af533a",
   "metadata": {},
   "source": [
    "- **Lookahead** 比如(?=foo): Asserts that what immediately *follows* the current position in the string is foo\n",
    "- **Lookbehind** 比如(?<=foo): Asserts that what immediately *precedes* the current position in the string is foo\n",
    "- **Negative Lookahead** 比如(?!foo): Asserts that what immediately *follows* the current position in the string is not foo\n",
    "- **Negative Lookbehind**: 比如(?<!foo): Asserts that what immediately *precedes* the current position in the string is not foo"
   ]
  },
  {
   "cell_type": "code",
   "execution_count": 36,
   "id": "6f66389c-04f7-45b5-9564-21e1b8210422",
   "metadata": {},
   "outputs": [],
   "source": [
    "import re"
   ]
  },
  {
   "cell_type": "code",
   "execution_count": 37,
   "id": "20e75d9b-bab0-4d0d-b298-99a74d9b0b65",
   "metadata": {},
   "outputs": [
    {
     "data": {
      "text/plain": [
       "'fox'"
      ]
     },
     "execution_count": 37,
     "metadata": {},
     "output_type": "execute_result"
    }
   ],
   "source": [
    "string = 'fox foxtrot ox box'\n",
    "\n",
    "# fox字符\n",
    "re.match(r'fox', string).group()"
   ]
  },
  {
   "cell_type": "code",
   "execution_count": 20,
   "id": "c2380a62-8864-4e92-94cf-b61d48c243d1",
   "metadata": {},
   "outputs": [
    {
     "data": {
      "text/plain": [
       "'fox'"
      ]
     },
     "execution_count": 20,
     "metadata": {},
     "output_type": "execute_result"
    }
   ],
   "source": [
    "# \\w: 任意单个字符\n",
    "re.match(r'[bf]ox', string).group()"
   ]
  },
  {
   "cell_type": "markdown",
   "id": "638c0034-4af0-4b53-af0f-bb67a86aa228",
   "metadata": {},
   "source": [
    "## Python "
   ]
  },
  {
   "cell_type": "markdown",
   "id": "484ea8c4-afc0-4251-bd3d-7515a8d32334",
   "metadata": {},
   "source": [
    "### re模块"
   ]
  },
  {
   "cell_type": "markdown",
   "id": "d2f9341b-8353-45c2-8f68-fac803e602d0",
   "metadata": {},
   "source": [
    "- `re.match()`: searches only from the beginning of the string and return match object if found. But if a match of substring is found somewhere in the middle of the string, it returns none\n",
    "- `re.search()`: search the regular expression pattern and return the first occurrence.\n",
    "- `re.findall()`: search for “all” occurrences that match a given pattern"
   ]
  },
  {
   "cell_type": "markdown",
   "id": "3bd21001-36f2-4f7a-b54b-804afcdd8a3d",
   "metadata": {},
   "source": [
    "## 案例"
   ]
  },
  {
   "cell_type": "markdown",
   "id": "db77140e-3b91-4df7-a432-a517a2a4b05d",
   "metadata": {},
   "source": [
    "### 清除某个模式内部"
   ]
  },
  {
   "cell_type": "markdown",
   "id": "9e07e94e-4fc2-4634-beba-5012f3638847",
   "metadata": {},
   "source": [
    "**提取括号内的字符**"
   ]
  },
  {
   "cell_type": "code",
   "execution_count": 36,
   "id": "408a45db-99a9-450f-b5c5-39ae8eb5887d",
   "metadata": {},
   "outputs": [
    {
     "data": {
      "text/plain": [
       "['W', 'indo', 'ws ', 'XP', ', ', 'with ', 'the ', 'fragment ']"
      ]
     },
     "execution_count": 36,
     "metadata": {},
     "output_type": "execute_result"
    }
   ],
   "source": [
    "text = '[(W)40(indo)25(ws )20(XP)111(, )20(with )20(the )20(fragment )20(en'\n",
    "re.findall(r'\\(([^()]+)\\)', text)"
   ]
  },
  {
   "cell_type": "markdown",
   "id": "d34d89da-57c4-40a8-b4fa-f4f775dbeb65",
   "metadata": {},
   "source": [
    "- 内层：`[^()]+` 表示：除了括号以外的任意字符出现1或无限次\n",
    "- `\\(`: 表示literally(\n",
    "- `(` `)`: 表示识别的模式"
   ]
  },
  {
   "cell_type": "markdown",
   "id": "8d646b70-aca6-42ca-8ebe-c52ed5081d2d",
   "metadata": {},
   "source": [
    "**提取在@和:之间的内容**"
   ]
  },
  {
   "cell_type": "code",
   "execution_count": 3,
   "id": "b530b19f-1e8e-444b-9c9d-1dec7e836e9e",
   "metadata": {},
   "outputs": [
    {
     "data": {
      "text/plain": [
       "['username', 'abcde', 'vwxyz']"
      ]
     },
     "execution_count": 3,
     "metadata": {},
     "output_type": "execute_result"
    }
   ],
   "source": [
    "text = '''\\ RT @username: Tweet text\n",
    "            RT @abcde: Tweet text\n",
    "            RT @vwxyz: Tweet text\n",
    "            '''\n",
    "re.findall('@([^:]+)', text)"
   ]
  },
  {
   "cell_type": "markdown",
   "id": "ad8825c8-98ae-4af2-89ac-2022873b0d48",
   "metadata": {},
   "source": [
    "- `@`: 就是@\n",
    "- `(`: start of a capture group\n",
    "- `[^:]+`: one or more characters that are not :\n",
    "- `)`: close of the capture group"
   ]
  },
  {
   "cell_type": "markdown",
   "id": "bc2e380b-862a-4545-a4bd-94ccdb59c683",
   "metadata": {},
   "source": [
    "### 直到xxx"
   ]
  },
  {
   "cell_type": "markdown",
   "id": "6b137ba7-8d2a-4f5d-b43f-a1731a52cb97",
   "metadata": {},
   "source": [
    "**直到abc停止**\n",
    "> https://stackoverflow.com/questions/7124778/how-to-match-anything-up-until-this-sequence-of-characters-in-a-regular-expres"
   ]
  },
  {
   "cell_type": "code",
   "execution_count": 34,
   "id": "c1651069-40fe-47b7-ac4c-050160bc7b50",
   "metadata": {},
   "outputs": [
    {
     "data": {
      "text/plain": [
       "'qwerty qwerty whatever '"
      ]
     },
     "execution_count": 34,
     "metadata": {},
     "output_type": "execute_result"
    }
   ],
   "source": [
    "text = \"qwerty qwerty whatever abc hello abc \"\n",
    "\n",
    "re.search(r'.+?(?=abc)', text).group(0)"
   ]
  },
  {
   "cell_type": "markdown",
   "id": "490b1db6-f17a-4881-bc77-f0c696625d33",
   "metadata": {},
   "source": [
    "- `.+?`: the un-greedy version of .+ (one or more of anything). \n",
    "\n",
    "    - When we use .+, the engine will basically match everything. \n",
    "    \n",
    "        Then, if there is something else in the regex it will go back in steps trying to match the following part. This is the greedy behavior, meaning as much as possible to satisfy.\n",
    "        \n",
    "- `(?={contents})`, a zero width assertion, a look around. This grouped construction matches its contents, but **does not count as characters matched (zero width)**. It only returns if it is a match or not (assertion).\n",
    "\n",
    "- `group(0)`: can be be explained by comparing it with group(1), group(2), group(3), ..., group(n). \n",
    "\n",
    "    - Group(0) locates the whole match expression. \n",
    "    - Then to determine more matching locations paranthesis are used: \n",
    "        - group(1) means the first paranthesis pair locates matching expression 1,group(2) says the second next paranthesis pair locates the match expression 2, and so on"
   ]
  },
  {
   "cell_type": "markdown",
   "id": "0bf05b3d-6aed-4cbc-a738-dac42a45a24f",
   "metadata": {},
   "source": [
    "### 各种Substring"
   ]
  },
  {
   "cell_type": "markdown",
   "id": "955ee3ce-826d-4d56-b24d-7cbeabc94401",
   "metadata": {},
   "source": [
    "**包含三个词**"
   ]
  },
  {
   "cell_type": "markdown",
   "id": "c1ff9778-ea40-489a-8ac1-0b1e52196518",
   "metadata": {},
   "source": [
    "[可视化](https://regex101.com/r/PykHli/1)："
   ]
  },
  {
   "cell_type": "code",
   "execution_count": 35,
   "id": "73cd4d0f-eef7-4e1b-a8fe-034eea8ddf68",
   "metadata": {},
   "outputs": [
    {
     "name": "stdout",
     "output_type": "stream",
     "text": [
      "True\n",
      "False\n",
      "False\n",
      "True\n"
     ]
    }
   ],
   "source": [
    "texts = [\"I am good! I am so happy!\", 'I am good', 'I am happy', 'goods makes customer happy']\n",
    "\n",
    "for text in texts:\n",
    "    print(bool(re.search(r'^(?=.*happy)(?=.*good)', text)))"
   ]
  },
  {
   "cell_type": "markdown",
   "id": "61a300f0-4d66-4db4-bf14-7bb9792984bd",
   "metadata": {},
   "source": [
    "- `^`: Assert start of the string 只是为了让正则anchor于开始，否则会有performance问题 [link](https://stackoverflow.com/questions/5421952/how-to-match-multiple-words-in-regex)\n",
    "- `(?=.*happy)` : 在match到任何东西之前，lookahead看看有没有 「任何字符出现任意次+happy」这个pattern\n",
    "- `(?=.*good)` : 在match到任何东西之前，lookahead看看有没有 「任何字符出现任意次+good」这个pattern\n",
    "- 前两个连接起来：必须同时满足！"
   ]
  },
  {
   "cell_type": "markdown",
   "id": "2c41d5ad-9e7b-4f72-89b3-e463531d61ce",
   "metadata": {},
   "source": [
    "[可视化](https://jex.im/regulex/#!flags=&re=%5E(%3F%3D.*%5Cbhappy%5Cb)(%3F%3D.*%5Cbgood%5Cb))："
   ]
  },
  {
   "cell_type": "code",
   "execution_count": 31,
   "id": "529219b0-df58-4f2f-9798-8ed530eae8ae",
   "metadata": {},
   "outputs": [
    {
     "name": "stdout",
     "output_type": "stream",
     "text": [
      "True\n",
      "False\n",
      "False\n",
      "False\n"
     ]
    }
   ],
   "source": [
    "for text in texts:\n",
    "    print(bool(re.search(r'^(?=.*\\bhappy\\b)(?=.*\\bgood\\b)', text)))"
   ]
  }
 ],
 "metadata": {
  "kernelspec": {
   "display_name": "Python 3 (ipykernel)",
   "language": "python",
   "name": "python3"
  },
  "language_info": {
   "codemirror_mode": {
    "name": "ipython",
    "version": 3
   },
   "file_extension": ".py",
   "mimetype": "text/x-python",
   "name": "python",
   "nbconvert_exporter": "python",
   "pygments_lexer": "ipython3",
   "version": "3.10.2"
  },
  "toc-autonumbering": true
 },
 "nbformat": 4,
 "nbformat_minor": 5
}
