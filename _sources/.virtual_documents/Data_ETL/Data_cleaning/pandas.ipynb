import pandas as pd
import numpy as np


df = pd.DataFrame({'kind': ['cat', 'dog', 'cat', 'dog'],
                   'height': [9.1, 6.0, 9.5, 34.0],
                   'weight': [7.9, 7.5, 9.9, 198.0]})
df


df.groupby('kind', as_index=False).agg(min_height=('height', 'min'), 
                                       max_weight=('weight', 'max'),
                                       mean_weight=('weight', 'mean'),
                                       quantile_25=('weight', lambda x: x.quantile(0.25)))
