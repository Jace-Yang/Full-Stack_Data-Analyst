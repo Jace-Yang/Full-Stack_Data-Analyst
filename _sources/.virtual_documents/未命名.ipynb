source = ["int a = 2;",
    "int b = 47;/*37;*///41",
    "int c = 3/*4//5*/;",
    "return a /b + c/*a b/ c*/;"]


我们需要逐行分析源代码。有两种情况，要么在一个注释内或者不在。
如果我们遇到注释块符号，而我们不在注释中，那么我们将跳过接下来的两个字符，并将状态更改为在注释中。
如果我们遇到注释块符号并且我们在注释中，那么我们将跳过接下来的两个字符并将状态更改为不在注释中。
如果我们遇到一个行注释且我们不在注释中，那么我们将忽略该行的其余部分。
如果我们不在注释中（并且它不是注释的开头），我们将记录所遇到的字符。
在每行的末尾，如果我们不在注释中，我们将记录该行。

作者：LeetCode
链接：https://leetcode-cn.com/problems/remove-comments/solution/shan-chu-zhu-shi-by-leetcode/
来源：力扣（LeetCode）
著作权归作者所有。商业转载请联系作者获得授权，非商业转载请注明出处。


source = ["var a= 2;",
'/*',
"var b= 2;",
"if (a === b) f", "b= a + 1;",
" //b = a*2- 1;", "}",
"**/",
"var b= 3;",
"return a * b;"]


# tracker
inside_comment = False
ans = 0
for line in source:
    i = 0
    if not inside_comment:
        new_line = []
    while i < len(line):
        if line[i:i+2] == '/*' and not inside_comment:
            inside_comment = True
            i += 1
        elif line[i:i+2] == '*/' and inside_comment:
            inside_comment = False
            i += 1
        elif not inside_comment and line[i:i+2] == '//':
            break
        elif not inside_comment:
            new_line.append(line[i])
        i += 1
    if new_line and not inside_comment:
        ans += len([i for i in new_line if i != ' '])


ans


作者：LeetCode
链接：https://leetcode-cn.com/problems/remove-comments/solution/shan-chu-zhu-shi-by-leetcode/
来源：力扣（LeetCode）
著作权归作者所有。商业转载请联系作者获得授权，非商业转载请注明出处。


for line in source:
    for i in line:
        print(i)





countOfAtoms('2H2O')








import re
from collections import Counter, defaultdict

def countOfAtoms(s: str) -> str:
    multipler = re.findall('^\d+', s)
    if multipler:
        multipler = multipler[0]
        s = s[len(multipler):]
        multipler = int(multipler)
    else:
        multipler = 1
    
    stack = [1]
    i = len(s) - 1
    dic = defaultdict(int)
    lower = count = ''
    while i > -1:
        if '0' <= s[i] <= '9':
            count = s[i] + count
        elif 'a' <= s[i] <= 'z':
            lower = s[i] + lower
        elif s[i] == ')':
            stack.append(stack[-1] * int(count or '1'))
            count = ''
        elif s[i] == '(':
            stack.pop()
        elif 'A' <= s[i] <= 'Z':
            dic[s[i] + lower] += stack[-1] * int(count or '1')
            count = ''
            lower = ''
        i -= 1    
    for k, v in dic.items():
        dic[k] = v * multipler
    return dic.items()

def reduce_all_dict(dict_list):
    reduced_dic = Counter()
    for dic in dict_list:
        for k, v in dic:
            reduced_dic[k] += v
    return reduced_dic

formula = "7Au(Ag)2 + 5Ag = 7AuAg + 12Ag"
left_elements, right_elements = formula.split('=')
left_dict = reduce_all_dict(countOfAtoms(l_element.strip()) for l_element in left_elements.strip().split('+'))
right_dict = reduce_all_dict(countOfAtoms(r_element.strip()) for r_element in right_elements.strip().split('+'))
print(left_dict == right_dict)



