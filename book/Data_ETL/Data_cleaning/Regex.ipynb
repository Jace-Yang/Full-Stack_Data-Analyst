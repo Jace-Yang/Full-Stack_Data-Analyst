{
 "cells": [
  {
   "cell_type": "markdown",
   "id": "73d113c2-7da2-4be2-9973-3fe0347f57a3",
   "metadata": {},
   "source": [
    "# 正则表达式"
   ]
  },
  {
   "cell_type": "markdown",
   "id": "89ac6745-cc32-4496-82fe-82fd1684641d",
   "metadata": {},
   "source": [
    "> Online rebug: https://regex101.com/"
   ]
  },
  {
   "cell_type": "markdown",
   "id": "9a10c2b4-2532-4412-8dd8-40ecf22954f7",
   "metadata": {},
   "source": [
    "## 基础"
   ]
  },
  {
   "cell_type": "markdown",
   "id": "43c328b6-7644-4c1d-b0c3-d0b5a73816bc",
   "metadata": {},
   "source": [
    "<img src=\"https://img-blog.csdnimg.cn/1e7357fa41394b02a8789f0cbbbe2035.png?x-oss-process=image/watermark,type_ZHJvaWRzYW5zZmFsbGJhY2s,shadow_50,text_Q1NETiBA5biD6KGj5bCP5byg,size_20,color_FFFFFF,t_70,g_se,x_16\">"
   ]
  },
  {
   "cell_type": "code",
   "execution_count": 13,
   "id": "6f66389c-04f7-45b5-9564-21e1b8210422",
   "metadata": {},
   "outputs": [],
   "source": [
    "import re"
   ]
  },
  {
   "cell_type": "code",
   "execution_count": 18,
   "id": "20e75d9b-bab0-4d0d-b298-99a74d9b0b65",
   "metadata": {},
   "outputs": [
    {
     "data": {
      "text/plain": [
       "'fox'"
      ]
     },
     "execution_count": 18,
     "metadata": {},
     "output_type": "execute_result"
    }
   ],
   "source": [
    "string = 'fox foxtrot ox box'\n",
    "\n",
    "# fox字符\n",
    "re.match(r'fox', string).group()"
   ]
  },
  {
   "cell_type": "code",
   "execution_count": 20,
   "id": "c2380a62-8864-4e92-94cf-b61d48c243d1",
   "metadata": {},
   "outputs": [
    {
     "data": {
      "text/plain": [
       "'fox'"
      ]
     },
     "execution_count": 20,
     "metadata": {},
     "output_type": "execute_result"
    }
   ],
   "source": [
    "# \\w: 任意单个字符\n",
    "re.match(r'[bf]ox', string).group()"
   ]
  }
 ],
 "metadata": {
  "kernelspec": {
   "display_name": "Python 3 (ipykernel)",
   "language": "python",
   "name": "python3"
  },
  "language_info": {
   "codemirror_mode": {
    "name": "ipython",
    "version": 3
   },
   "file_extension": ".py",
   "mimetype": "text/x-python",
   "name": "python",
   "nbconvert_exporter": "python",
   "pygments_lexer": "ipython3",
   "version": "3.10.2"
  }
 },
 "nbformat": 4,
 "nbformat_minor": 5
}
