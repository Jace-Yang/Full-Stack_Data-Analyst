import re


string = 'fox foxtrot ox box'

# fox字符
re.match(r'fox', string).group()


# \w: 任意单个字符
re.match(r'[bf]ox', string).group()


text = '[(W)40(indo)25(ws )20(XP)111(, )20(with )20(the )20(fragment )20(en'
re.findall(r'\(([^()]+)\)', text)


text = '''\ RT @username: Tweet text
            RT @abcde: Tweet text
            RT @vwxyz: Tweet text
            '''
re.findall('@([^:]+)', text)


text = "qwerty qwerty whatever abc hello abc "

re.search(r'.+?(?=abc)', text).group(0)


texts = ["I am good! I am so happy!", 'I am good', 'I am happy', 'goods makes customer happy']

for text in texts:
    print(bool(re.search(r'^(?=.*happy)(?=.*good)', text)))


for text in texts:
    print(bool(re.search(r'^(?=.*\bhappy\b)(?=.*\bgood\b)', text)))
