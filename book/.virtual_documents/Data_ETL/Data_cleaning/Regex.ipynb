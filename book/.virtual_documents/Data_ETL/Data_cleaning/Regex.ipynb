import re


string = 'fox foxtrot ox box'

# fox字符
re.match(r'fox', string).group()


# \w: 任意单个字符
re.match(r'[bf]ox', string).group()
